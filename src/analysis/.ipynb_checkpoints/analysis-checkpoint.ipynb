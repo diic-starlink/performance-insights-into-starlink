{
 "cells": [
  {
   "cell_type": "code",
   "execution_count": 5,
   "id": "82d42601-081f-4ab0-a4bd-19978efdd527",
   "metadata": {
    "tags": []
   },
   "outputs": [],
   "source": [
    "import duckdb\n",
    "import pandas as pd"
   ]
  },
  {
   "cell_type": "code",
   "execution_count": 11,
   "id": "82589b7b-064c-4144-bee8-e3d896832f8a",
   "metadata": {
    "tags": []
   },
   "outputs": [],
   "source": [
    "con = duckdb.connect(database='data/duck.db')"
   ]
  },
  {
   "cell_type": "code",
   "execution_count": 57,
   "id": "622c6279-d82e-4578-84b8-f4ff00a9c272",
   "metadata": {
    "tags": []
   },
   "outputs": [
    {
     "name": "stdout",
     "output_type": "stream",
     "text": [
      "┌───────────────────┐\n",
      "│ sum(sent_packets) │\n",
      "│      int128       │\n",
      "├───────────────────┤\n",
      "│           2114294 │\n",
      "└───────────────────┘\n",
      "\n"
     ]
    }
   ],
   "source": [
    "data = con.sql(\"SELECT SUM(sent_packets) FROM ping_data WHERE msm_id > 10000 GROUP BY msm_id;\")\n",
    "print(data)"
   ]
  },
  {
   "cell_type": "code",
   "execution_count": 58,
   "id": "c9977373-10dd-4914-bf21-6b9d580f0acb",
   "metadata": {
    "tags": []
   },
   "outputs": [
    {
     "name": "stdout",
     "output_type": "stream",
     "text": [
      "┌───────────────────────┐\n",
      "│ sum(received_packets) │\n",
      "│        int128         │\n",
      "├───────────────────────┤\n",
      "│               2098008 │\n",
      "└───────────────────────┘\n",
      "\n"
     ]
    }
   ],
   "source": [
    "data = con.sql(\"SELECT SUM(received_packets) FROM ping_data WHERE msm_id > 10000 GROUP BY msm_id;\")\n",
    "print(data)"
   ]
  },
  {
   "cell_type": "code",
   "execution_count": 59,
   "id": "a1ebcd21-f608-409f-9930-001384afda35",
   "metadata": {
    "tags": []
   },
   "outputs": [
    {
     "name": "stdout",
     "output_type": "stream",
     "text": [
      "┌──────────────┐\n",
      "│ lost_packets │\n",
      "│    int128    │\n",
      "├──────────────┤\n",
      "│        16286 │\n",
      "└──────────────┘\n",
      "\n"
     ]
    }
   ],
   "source": [
    "data = con.sql(\"SELECT SUM(sent_packets) - SUM(received_packets) AS lost_packets FROM ping_data WHERE msm_id > 10000 GROUP BY msm_id;\")\n",
    "print(data)"
   ]
  },
  {
   "cell_type": "code",
   "execution_count": 60,
   "id": "bed9f463-7223-4a89-b126-d6ce7a84bcd7",
   "metadata": {
    "tags": []
   },
   "outputs": [],
   "source": [
    "sent_packets = (16_286 / 2_114_294) * 100"
   ]
  },
  {
   "cell_type": "code",
   "execution_count": 61,
   "id": "38b9be57-b289-4939-a39d-888feffc27aa",
   "metadata": {
    "tags": []
   },
   "outputs": [
    {
     "data": {
      "text/plain": [
       "0.7702807651159205"
      ]
     },
     "execution_count": 61,
     "metadata": {},
     "output_type": "execute_result"
    }
   ],
   "source": [
    "sent_packets"
   ]
  }
 ],
 "metadata": {
  "kernelspec": {
   "display_name": "Python 3 (ipykernel)",
   "language": "python",
   "name": "python3"
  },
  "language_info": {
   "codemirror_mode": {
    "name": "ipython",
    "version": 3
   },
   "file_extension": ".py",
   "mimetype": "text/x-python",
   "name": "python",
   "nbconvert_exporter": "python",
   "pygments_lexer": "ipython3",
   "version": "3.11.5"
  }
 },
 "nbformat": 4,
 "nbformat_minor": 5
}
