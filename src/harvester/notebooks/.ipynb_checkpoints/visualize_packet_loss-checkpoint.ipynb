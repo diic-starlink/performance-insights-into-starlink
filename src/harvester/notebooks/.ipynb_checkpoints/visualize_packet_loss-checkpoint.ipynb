{
 "cells": [
  {
   "cell_type": "markdown",
   "id": "773a3dca-9c74-4db2-83a7-e3bcafd2e7a8",
   "metadata": {},
   "source": [
    "# Packet Loss Visualization"
   ]
  },
  {
   "cell_type": "code",
   "execution_count": 25,
   "id": "c64712f1-2ae8-4d66-9ef6-e4a8cdc30d63",
   "metadata": {
    "tags": []
   },
   "outputs": [],
   "source": [
    "import pandas as pd\n",
    "import matplotlib.pyplot as plt"
   ]
  },
  {
   "cell_type": "code",
   "execution_count": 26,
   "id": "70da16de-f542-484b-875f-8d392fc33aae",
   "metadata": {
    "tags": []
   },
   "outputs": [],
   "source": [
    "data = pd.read_csv(\"packet_loss.csv\")"
   ]
  },
  {
   "cell_type": "code",
   "execution_count": 27,
   "id": "0b7ce1e1-1447-408e-8f2a-cbd7eca5b8c3",
   "metadata": {
    "tags": []
   },
   "outputs": [
    {
     "data": {
      "text/html": [
       "<div>\n",
       "<style scoped>\n",
       "    .dataframe tbody tr th:only-of-type {\n",
       "        vertical-align: middle;\n",
       "    }\n",
       "\n",
       "    .dataframe tbody tr th {\n",
       "        vertical-align: top;\n",
       "    }\n",
       "\n",
       "    .dataframe thead th {\n",
       "        text-align: right;\n",
       "    }\n",
       "</style>\n",
       "<table border=\"1\" class=\"dataframe\">\n",
       "  <thead>\n",
       "    <tr style=\"text-align: right;\">\n",
       "      <th></th>\n",
       "      <th>Number</th>\n",
       "      <th>PacketLost</th>\n",
       "      <th>Timestamp</th>\n",
       "    </tr>\n",
       "  </thead>\n",
       "  <tbody>\n",
       "    <tr>\n",
       "      <th>0</th>\n",
       "      <td>1</td>\n",
       "      <td>False</td>\n",
       "      <td>1716366839527</td>\n",
       "    </tr>\n",
       "    <tr>\n",
       "      <th>1</th>\n",
       "      <td>2</td>\n",
       "      <td>False</td>\n",
       "      <td>1716366839528</td>\n",
       "    </tr>\n",
       "    <tr>\n",
       "      <th>2</th>\n",
       "      <td>3</td>\n",
       "      <td>False</td>\n",
       "      <td>1716366839529</td>\n",
       "    </tr>\n",
       "    <tr>\n",
       "      <th>3</th>\n",
       "      <td>4</td>\n",
       "      <td>False</td>\n",
       "      <td>1716366839530</td>\n",
       "    </tr>\n",
       "    <tr>\n",
       "      <th>4</th>\n",
       "      <td>5</td>\n",
       "      <td>False</td>\n",
       "      <td>1716366839531</td>\n",
       "    </tr>\n",
       "    <tr>\n",
       "      <th>...</th>\n",
       "      <td>...</td>\n",
       "      <td>...</td>\n",
       "      <td>...</td>\n",
       "    </tr>\n",
       "    <tr>\n",
       "      <th>295</th>\n",
       "      <td>26</td>\n",
       "      <td>False</td>\n",
       "      <td>1716366839555</td>\n",
       "    </tr>\n",
       "    <tr>\n",
       "      <th>296</th>\n",
       "      <td>27</td>\n",
       "      <td>False</td>\n",
       "      <td>1716366839556</td>\n",
       "    </tr>\n",
       "    <tr>\n",
       "      <th>297</th>\n",
       "      <td>28</td>\n",
       "      <td>False</td>\n",
       "      <td>1716366839557</td>\n",
       "    </tr>\n",
       "    <tr>\n",
       "      <th>298</th>\n",
       "      <td>29</td>\n",
       "      <td>False</td>\n",
       "      <td>1716366839558</td>\n",
       "    </tr>\n",
       "    <tr>\n",
       "      <th>299</th>\n",
       "      <td>30</td>\n",
       "      <td>False</td>\n",
       "      <td>1716366839559</td>\n",
       "    </tr>\n",
       "  </tbody>\n",
       "</table>\n",
       "<p>300 rows × 3 columns</p>\n",
       "</div>"
      ],
      "text/plain": [
       "     Number  PacketLost      Timestamp\n",
       "0         1       False  1716366839527\n",
       "1         2       False  1716366839528\n",
       "2         3       False  1716366839529\n",
       "3         4       False  1716366839530\n",
       "4         5       False  1716366839531\n",
       "..      ...         ...            ...\n",
       "295      26       False  1716366839555\n",
       "296      27       False  1716366839556\n",
       "297      28       False  1716366839557\n",
       "298      29       False  1716366839558\n",
       "299      30       False  1716366839559\n",
       "\n",
       "[300 rows x 3 columns]"
      ]
     },
     "execution_count": 27,
     "metadata": {},
     "output_type": "execute_result"
    }
   ],
   "source": [
    "data"
   ]
  },
  {
   "cell_type": "code",
   "execution_count": 28,
   "id": "9729f725-10bc-4a8a-8cb1-ca920a63b91d",
   "metadata": {
    "tags": []
   },
   "outputs": [],
   "source": [
    "buckets = {}\n",
    "for val in data[\"Timestamp\"]:\n",
    "    buckets[val] = 0\n",
    "\n",
    "rows_it = data.iterrows()\n",
    "for (idx, (number, packet_lost, timestamp)) in rows_it:\n",
    "    if packet_lost == \"True\":\n",
    "        buckets[timestamp] += 1"
   ]
  },
  {
   "cell_type": "code",
   "execution_count": 29,
   "id": "880b6be6-3025-4387-9ffc-d087d1d97db6",
   "metadata": {
    "tags": []
   },
   "outputs": [
    {
     "data": {
      "image/png": "[encoded data removed]",
      "text/plain": [
       "<Figure size 1000x500 with 1 Axes>"
      ]
     },
     "metadata": {},
     "output_type": "display_data"
    }
   ],
   "source": [
    "# Extract keys and values from the dictionary\n",
    "x = list(buckets.keys())\n",
    "y = list(buckets.values())\n",
    "\n",
    "# Create the bar chart\n",
    "plt.figure(figsize=(10, 5))\n",
    "plt.bar(x, y, color='blue')\n",
    "\n",
    "# Add titles and labels\n",
    "plt.title('Bar Chart of Provided Data')\n",
    "plt.xlabel('Timestamp')\n",
    "plt.ylabel('Value')\n",
    "\n",
    "# Rotate x-axis labels for better readability\n",
    "plt.xticks(rotation=90)\n",
    "\n",
    "# Show the plot\n",
    "plt.tight_layout()  # Adjusts the plot to ensure everything fits without overlapping\n",
    "plt.show()"
   ]
  }
 ],
 "metadata": {
  "kernelspec": {
   "display_name": "Python 3 (ipykernel)",
   "language": "python",
   "name": "python3"
  },
  "language_info": {
   "codemirror_mode": {
    "name": "ipython",
    "version": 3
   },
   "file_extension": ".py",
   "mimetype": "text/x-python",
   "name": "python",
   "nbconvert_exporter": "python",
   "pygments_lexer": "ipython3",
   "version": "3.11.5"
  }
 },
 "nbformat": 4,
 "nbformat_minor": 5
}
