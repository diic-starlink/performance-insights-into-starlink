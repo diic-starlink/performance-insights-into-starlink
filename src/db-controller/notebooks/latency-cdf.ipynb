{
 "cells": [
  {
   "cell_type": "markdown",
   "id": "d9b7b693-b153-4a0d-8c61-e52566dc8a5e",
   "metadata": {},
   "source": [
    "# Latency CDF"
   ]
  },
  {
   "cell_type": "code",
   "execution_count": null,
   "id": "77e4a193-40a4-4c62-94f1-2feb44b85ce2",
   "metadata": {},
   "outputs": [],
   "source": [
    "import pandas as pd\n",
    "import math\n",
    "from datetime import datetime\n",
    "import matplotlib.pyplot as plt\n",
    "import numpy as np\n",
    "import pycountry\n",
    "import os\n",
    "\n",
    "def country_name(country_iso):\n",
    "    return pycountry.countries.get(alpha_2=country_iso).name\n",
    "\n",
    "def filter_for(df, name, value):\n",
    "    return df.loc[df[name] == value]\n",
    "\n",
    "def filter_for_range(df, name, lower_bound, upper_bound):\n",
    "    return df[(df[name] >= lower_bound) & (df[name] < upper_bound)]"
   ]
  },
  {
   "cell_type": "code",
   "execution_count": null,
   "id": "e01bb3f4-1847-4230-9112-ddf7e2ed5d78",
   "metadata": {},
   "outputs": [],
   "source": [
    "tls_data_file = \"./parquet/tls_data.parquet\"\n",
    "probes_data_file = \"./parquet/ripe_atlas_probe_data.parquet\"\n",
    "\n",
    "tls_data = pd.read_parquet(tls_data_file)\n",
    "probes = pd.read_parquet(probes_data_file).set_index('id')\n",
    "df = tls_data.join(probes, on='prb_id')\n",
    "\n",
    "df"
   ]
  },
  {
   "cell_type": "code",
   "execution_count": null,
   "id": "1f4c836a-400b-4717-bc8a-b4497aba13f7",
   "metadata": {},
   "outputs": [],
   "source": [
    "results_dir = './cdf'\n",
    "\n",
    "start2022 = datetime(2022, 1, 1).timestamp()\n",
    "start2023 = datetime(2023, 1, 1).timestamp()\n",
    "start2024 = datetime(2024, 1, 1).timestamp()\n",
    "future = datetime(2030, 1, 1).timestamp()\n",
    "\n",
    "df2022 = filter_for_range(df, 'timestamp', start2022, start2023)\n",
    "df2023 = filter_for_range(df, 'timestamp', start2023, start2024)\n",
    "df2024 = filter_for_range(df, 'timestamp', min, future)\n",
    "def per_country_cdf(df, c, title):\n",
    "    rt_column = [v for v in df['rt'].tolist() if v > 0]\n",
    "    log_rts = np.log(rt_column)\n",
    "    \n",
    "    fig, ax = plt.subplots()\n",
    "    ax.ecdf(log_rts)\n",
    "    ax.set_xlabel('CDF of Latencies in ms')\n",
    "\n",
    "    xticks_locations = np.arange(2, np.max(log_rts), 0.5)\n",
    "    xticks_labels = np.round(np.exp(xticks_locations), 0)\n",
    "\n",
    "    plt.xticks(xticks_locations, xticks_labels)\n",
    "    plt.yticks(np.arange(0, 1, 0.1))\n",
    "    ax.tick_params(axis='both', which='major', labelsize=7)\n",
    "    plt.title(title)\n",
    "    plt.savefig(results_dir + \"/\" + title.lower().replace(\" \", \"_\") + \".pdf\")\n",
    "    plt.show()\n",
    "\n",
    "if not os.path.isdir(results_dir): os.mkdir(results_dir)\n",
    "for country in set(df['country'].tolist()):\n",
    "    per_country_cdf(df2022, country, 'Latencies in 2022 of Starlink Probes in ' + country_name(country))\n",
    "    per_country_cdf(df2023, country, 'Latencies in 2023 of Starlink Probes in ' + country_name(country))\n",
    "    per_country_cdf(df2024, country, 'Latencies in 2024 of Starlink Probes in ' + country_name(country))"
   ]
  }
 ],
 "metadata": {
  "kernelspec": {
   "display_name": "Python 3 (ipykernel)",
   "language": "python",
   "name": "python3"
  },
  "language_info": {
   "codemirror_mode": {
    "name": "ipython",
    "version": 3
   },
   "file_extension": ".py",
   "mimetype": "text/x-python",
   "name": "python",
   "nbconvert_exporter": "python",
   "pygments_lexer": "ipython3",
   "version": "3.11.6"
  }
 },
 "nbformat": 4,
 "nbformat_minor": 5
}
