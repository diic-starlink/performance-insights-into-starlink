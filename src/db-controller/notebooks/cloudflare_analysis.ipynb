{
 "cells": [
  {
   "cell_type": "markdown",
   "id": "01283d37-99c8-4ca8-9422-1164ac1e2b6a",
   "metadata": {},
   "source": [
    "# Cloudflare Data Analysis"
   ]
  },
  {
   "cell_type": "code",
   "execution_count": null,
   "id": "00c3c48f-f7c8-40e5-8e40-8e6ee7a87164",
   "metadata": {},
   "outputs": [],
   "source": [
    "import pandas as pd\n",
    "from sqlalchemy import create_engine\n",
    "import json\n",
    "import matplotlib.pyplot as plt\n",
    "import numpy as np\n",
    "import ast\n",
    "import duckdb\n",
    "import time\n",
    "import pycountry\n",
    "from datetime import datetime, timedelta, date\n",
    "from calendar import monthrange\n",
    "from calendar import day_name\n",
    "import matplotlib.pyplot as plt\n",
    "from matplotlib.pyplot import figure\n",
    "from math import inf\n",
    "\n",
    "def country_name(country_iso):\n",
    "    return pycountry.countries.get(alpha_2=country_iso).name\n",
    "\n",
    "def filter_for(df, name, value):\n",
    "    return df.loc[df[name] == value]\n",
    "\n",
    "def filter_for_unequal(df, name, value):\n",
    "    return df.loc[df[name] != value]\n",
    "\n",
    "def filter_for_range(df, name, lower_bound, upper_bound):\n",
    "    return df[(df[name] >= lower_bound) & (df[name] < upper_bound)]\n",
    "\n",
    "def days_in_month(year, month):\n",
    "    return monthrange(year, month)[1]\n",
    "\n",
    "def first_weekday_of_month(year, month):\n",
    "    return monthrange(year, month)[0]\n",
    "\n",
    "def date_to_weekday(day, month, year):\n",
    "    date = datetime(year, month, day)\n",
    "    return day_name[date.weekday()]\n",
    "\n",
    "def to_latex(df, columns=None, label=\"nolabel\", caption=\"notitle\"):\n",
    "    if not columns:\n",
    "        columns = df.columns.tolist()\n",
    "    return df.to_latex(index=True, bold_rows=True, label=label, caption=caption, columns=columns)"
   ]
  },
  {
   "cell_type": "code",
   "execution_count": null,
   "id": "c57ae3b1-243b-49b6-89db-5e65f818435c",
   "metadata": {},
   "outputs": [],
   "source": [
    "data = duckdb.read_parquet('./parquet/ping_data.parquet')\n",
    "df = duckdb.sql(\"SELECT * FROM data WHERE source_platform = 'Cloudflare RADAR (timeseries groups)' and result NOT LIKE '%p25%null%p50%null%p75%null%' ORDER BY timestamp;\").to_df().drop(columns=['msm_id', 'destination', 'source', 'country', 'prb_id', 'sent_packets', 'received_packets', 'source_platform'])"
   ]
  },
  {
   "cell_type": "code",
   "execution_count": null,
   "id": "80069279-a85d-4636-960c-8ebe45a93540",
   "metadata": {},
   "outputs": [],
   "source": [
    "df"
   ]
  },
  {
   "cell_type": "code",
   "execution_count": null,
   "id": "a4f8d8c6-c927-4075-a0ba-a55d7c48e3d5",
   "metadata": {},
   "outputs": [],
   "source": [
    "latencies = []\n",
    "timestamps = []\n",
    "\n",
    "results = df['result'].tolist()\n",
    "df_timestamps = df['timestamp'].tolist()\n",
    "\n",
    "i = 0\n",
    "for result in results:\n",
    "    try:\n",
    "        dict = ast.literal_eval(json.loads(result)) \n",
    "        latencies.append([float(dict['p25']), float(dict['p50']), float(dict['p75'])])\n",
    "        timestamps.append(float(df_timestamps[i]))\n",
    "    except:\n",
    "        latencies.append([0.0,0.0,0.0])\n",
    "        timestamps.append(float(df_timestamps[i]))\n",
    "    i += 1\n",
    "\n",
    "assert len(latencies) == len(timestamps)"
   ]
  },
  {
   "cell_type": "code",
   "execution_count": null,
   "id": "4f0abde1-5e8c-4ab3-ad26-64fff0f0e660",
   "metadata": {},
   "outputs": [],
   "source": [
    "fig, ax = plt.subplots()\n",
    "plt.xticks([],[])\n",
    "\n",
    "plt.ylabel('Latency in ms')\n",
    "plt.xlabel('Timestamp')\n",
    "plt.title('Latency from Cloudflare Radar for Starlink over the whole time range')\n",
    "plt.boxplot(latencies)\n",
    "plt.show()"
   ]
  },
  {
   "cell_type": "markdown",
   "id": "8802e210-d226-4a89-b711-e670adf92c7e",
   "metadata": {},
   "source": [
    "The latency is very unstable. Why? Can we observe change over the day?\n",
    "\n",
    "Lets look at the first three days of March."
   ]
  },
  {
   "cell_type": "code",
   "execution_count": null,
   "id": "7495ab17-7811-4f05-9ce1-8aa9b9423aeb",
   "metadata": {},
   "outputs": [],
   "source": [
    "def plot_day(start, end, no_days=1):\n",
    "    short_latencies = []\n",
    "    short_timestamps = []\n",
    "    STOP = time.mktime(datetime.fromisoformat(end).timetuple()) * 1000\n",
    "    START = time.mktime(datetime.fromisoformat(start).timetuple()) * 1000\n",
    "\n",
    "    for i in range(0, len(timestamps)):\n",
    "        if timestamps[i] < STOP and timestamps[i] >= START:\n",
    "            short_latencies.append(latencies[i])\n",
    "            short_timestamps.append(timestamps[i])\n",
    "    print(len(short_latencies))\n",
    "    \n",
    "    fig, ax = plt.subplots()\n",
    "\n",
    "    date_format = '%Y-%m-%dT%H:%M:%SZ'\n",
    "    plt.title('Starlink CF Radar Latency for ' + str(datetime.strptime(start, date_format)) + ' - ' + str(datetime.strptime(end, date_format)))\n",
    "    ax.boxplot(short_latencies)\n",
    "    if (no_days < 4):\n",
    "        plt.xticks([24 * i for i in range(0, 1 + (no_days) * 4)], ['0' + str(int(((24*i) % 96) / 4)) + ':00' if (((24*i) % 96) / 4) < 10 else str(int(((24*i) % 96) / 4)) + ':00' for i in range(0, 1 + (no_days) * 4)])\n",
    "    else:\n",
    "        positions = [48 * i for i in range(0, 1 + (no_days) * 2)]    \n",
    "        labels = ['0' + str(int(((48*i) % 96) / 2)) + ':00' if (((48*i) % 96) / 4) < 10 else str(int(((48*i) % 96) / 4)) + ':00' for i in range(0, 1 + (no_days) * 2)]\n",
    "        plt.xticks(positions, labels, fontsize=8)\n",
    "        for pos in positions: plt.axvline(x=pos, ls='--')\n",
    "\n",
    "    plt.savefig(f'cloudflare/{ax.get_title().lower()}.pdf')\n",
    "    plt.show()\n",
    "\n",
    "plot_day('2024-04-01T00:00:00Z', '2024-04-02T00:00:00Z')\n",
    "plot_day('2024-04-02T00:00:00Z', '2024-04-03T00:00:00Z')\n",
    "plot_day('2024-04-03T00:00:00Z', '2024-04-04T00:00:00Z')\n",
    "plot_day('2024-04-04T00:00:00Z', '2024-04-05T00:00:00Z')\n",
    "plot_day('2024-04-05T00:00:00Z', '2024-04-04T00:00:00Z')\n",
    "plot_day('2024-04-01T00:00:00Z', '2024-04-04T00:00:00Z', no_days=3)\n",
    "plot_day('2024-04-01T00:00:00Z', '2024-04-04T00:00:00Z', no_days=7)\n",
    "plot_day('2024-04-04T00:00:00Z', '2024-04-15T00:00:00Z', no_days=7)\n",
    "plot_day('2024-04-15T00:00:00Z', '2024-04-22T00:00:00Z', no_days=7)\n",
    "plot_day('2024-04-22T00:00:00Z', '2024-04-29T00:00:00Z', no_days=7)"
   ]
  },
  {
   "cell_type": "code",
   "execution_count": null,
   "id": "37147021-0f4b-499f-9833-96e935954ccf",
   "metadata": {},
   "outputs": [],
   "source": []
  }
 ],
 "metadata": {
  "kernelspec": {
   "display_name": "Python 3 (ipykernel)",
   "language": "python",
   "name": "python3"
  },
  "language_info": {
   "codemirror_mode": {
    "name": "ipython",
    "version": 3
   },
   "file_extension": ".py",
   "mimetype": "text/x-python",
   "name": "python",
   "nbconvert_exporter": "python",
   "pygments_lexer": "ipython3",
   "version": "3.11.6"
  }
 },
 "nbformat": 4,
 "nbformat_minor": 5
}
