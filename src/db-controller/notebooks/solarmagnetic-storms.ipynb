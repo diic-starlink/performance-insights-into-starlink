{
 "cells": [
  {
   "cell_type": "markdown",
   "id": "c702d386-3c89-492a-af97-91a51025e672",
   "metadata": {},
   "source": [
    "# Correlation of Latencies and Solarmagnetic Storms"
   ]
  },
  {
   "cell_type": "code",
   "execution_count": null,
   "id": "a22d37cf-162f-4b11-bb88-5da74e1fccc8",
   "metadata": {},
   "outputs": [],
   "source": [
    "import pycountry\n",
    "import json\n",
    "import pandas as pd\n",
    "import numpy as np\n",
    "from datetime import datetime, timedelta, date\n",
    "from calendar import monthrange\n",
    "from calendar import day_name\n",
    "import matplotlib.pyplot as plt\n",
    "from matplotlib.pyplot import figure\n",
    "from math import inf\n",
    "\n",
    "def country_name(country_iso):\n",
    "    return pycountry.countries.get(alpha_2=country_iso).name\n",
    "\n",
    "def filter_for(df, name, value):\n",
    "    return df.loc[df[name] == value]\n",
    "\n",
    "def filter_for_unequal(df, name, value):\n",
    "    return df.loc[df[name] != value]\n",
    "\n",
    "def filter_for_range(df, name, lower_bound, upper_bound):\n",
    "    return df[(df[name] >= lower_bound) & (df[name] < upper_bound)]\n",
    "\n",
    "def days_in_month(year, month):\n",
    "    return monthrange(year, month)[1]\n",
    "\n",
    "def first_weekday_of_month(year, month):\n",
    "    return monthrange(year, month)[0]\n",
    "\n",
    "def date_to_weekday(day, month, year):\n",
    "    date = datetime(year, month, day)\n",
    "    return day_name[date.weekday()]\n",
    "\n",
    "from kpdownload import getKpindex"
   ]
  },
  {
   "cell_type": "code",
   "execution_count": null,
   "id": "6b049bde-6360-473c-8782-a59bbef19bbc",
   "metadata": {},
   "outputs": [],
   "source": [
    "country = 'US'\n",
    "df = pd.read_parquet('./parquet/tls_data.parquet').join(pd.read_parquet('./parquet/ripe_atlas_probe_data.parquet').set_index('id'), on='prb_id')\n",
    "df = filter_for(df, 'country', country)\n",
    "\n",
    "df"
   ]
  },
  {
   "cell_type": "code",
   "execution_count": null,
   "id": "cc30ded4-94d2-4efd-bd05-45d1e48e4c44",
   "metadata": {},
   "outputs": [],
   "source": [
    "one_day = timedelta(days=1)\n",
    "three_hours = timedelta(hours=3)\n",
    "data = []\n",
    "\n",
    "interval = one_day\n",
    "\n",
    "current = datetime(2022, 1, 1)\n",
    "max = datetime.fromtimestamp(np.max(df['timestamp'].tolist()))\n",
    "\n",
    "while current < max:\n",
    "    median_rt = np.median(filter_for_range(df, 'timestamp', current.timestamp(), (current + interval).timestamp())['rt'])\n",
    "    average_kp = np.mean(getKpindex(current.isoformat() + 'Z', (current + interval).isoformat() + 'Z', 'Kp')[1])\n",
    "    data.append( (median_rt, average_kp) )\n",
    "\n",
    "    current += interval\n",
    "\n",
    "solar_df = pd.DataFrame(data, columns=['Latency', 'Kp Index'])\n",
    "solar_df"
   ]
  },
  {
   "cell_type": "code",
   "execution_count": null,
   "id": "bc9a152e-309e-46c8-a3a8-bfaa65fa4caf",
   "metadata": {},
   "outputs": [],
   "source": [
    "pearson_correlation = solar_df['Latency'].corr(solar_df['Kp Index'], method='pearson')\n",
    "kendall_correlation = solar_df['Latency'].corr(solar_df['Kp Index'], method='kendall')\n",
    "spearman_correlation = solar_df['Latency'].corr(solar_df['Kp Index'], method='spearman')\n",
    "\n",
    "print(np.round(pearson_correlation, 2))\n",
    "print(np.round(kendall_correlation, 2))\n",
    "print(np.round(spearman_correlation, 2))"
   ]
  },
  {
   "cell_type": "code",
   "execution_count": null,
   "id": "6458e98e-f44d-459e-adf0-a21d7483d970",
   "metadata": {},
   "outputs": [],
   "source": []
  }
 ],
 "metadata": {
  "kernelspec": {
   "display_name": "Python 3 (ipykernel)",
   "language": "python",
   "name": "python3"
  },
  "language_info": {
   "codemirror_mode": {
    "name": "ipython",
    "version": 3
   },
   "file_extension": ".py",
   "mimetype": "text/x-python",
   "name": "python",
   "nbconvert_exporter": "python",
   "pygments_lexer": "ipython3",
   "version": "3.12.7"
  }
 },
 "nbformat": 4,
 "nbformat_minor": 5
}
