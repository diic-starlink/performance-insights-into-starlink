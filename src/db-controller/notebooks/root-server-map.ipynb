{
 "cells": [
  {
   "cell_type": "markdown",
   "id": "e59fbc90-a8f4-405c-82c4-736b572ae659",
   "metadata": {},
   "source": [
    "# Map of CF Data Centers and root-servers"
   ]
  },
  {
   "cell_type": "code",
   "execution_count": null,
   "id": "d1e992e9-a087-45b4-b608-248e7fce88ca",
   "metadata": {},
   "outputs": [],
   "source": [
    "from deep_translator import GoogleTranslator\n",
    "from geopy import Nominatim\n",
    "from time import sleep\n",
    "\n",
    "geolocator = Nominatim(user_agent=\"jupyter-city-locator-robertrichter123\")"
   ]
  },
  {
   "cell_type": "code",
   "execution_count": null,
   "id": "a7d5053e-c88b-414e-9bb6-2441e8baf9e9",
   "metadata": {},
   "outputs": [],
   "source": [
    "cf_data_centers = open('cf_data_center_locations.txt', 'r').read()\n",
    "cf_dc_locations = set()\n",
    "for v in cf_data_centers.replace('*', '').replace('    ', '').split('\\n'):\n",
    "    city = GoogleTranslator(source='de', target='en').translate(v.split(', ')[0])\n",
    "    country = v.split(', ')[1]\n",
    "    cf_dc_locations.add( (city, country) )\n",
    "\n",
    "root_servers = open('root-server-locations.txt', 'r').readlines()\n",
    "rs_locations = set()\n",
    "for v in root_servers:\n",
    "    if v == '\\n': continue\n",
    "\n",
    "    s = v.replace('\\n','').split(', ')\n",
    "    if len(s) < 2:\n",
    "        print(s)\n",
    "    rs_locations.add( (s[0], s[1]) )"
   ]
  },
  {
   "cell_type": "markdown",
   "id": "0e482413-13db-4a70-a2b9-1003261d369e",
   "metadata": {},
   "source": [
    "## Cloudflare Data Centers"
   ]
  },
  {
   "cell_type": "code",
   "execution_count": null,
   "id": "f56117b9-6baa-4941-b263-2b0b50e23602",
   "metadata": {},
   "outputs": [],
   "source": [
    "import requests\n",
    "import json\n",
    "\n",
    "def get_coords(city, country):\n",
    "    query = city + \"+\" + country\n",
    "    url = \"https://nominatim.openstreetmap.org/search.php?q=\" + query + \"&format=jsonv2\"\n",
    "    response = requests.get(url)\n",
    "    if response.status_code < 300:\n",
    "        res = json.loads(response.content)\n",
    "        if len(res) == 0: return False\n",
    "        return res[0].get('lat'), res[0].get('lon')\n",
    "    return False\n",
    "\n",
    "cf_dc_coords = []\n",
    "for (city, country) in cf_dc_locations:\n",
    "    res = get_coords(city,country)\n",
    "    if res:\n",
    "        cf_dc_coords.append(res)"
   ]
  },
  {
   "cell_type": "code",
   "execution_count": null,
   "id": "bdded19d-29b5-4cdb-9f74-8489c5b09df8",
   "metadata": {},
   "outputs": [],
   "source": [
    "from shapely.geometry import Point\n",
    "import geopandas as gpd\n",
    "from geopandas import GeoDataFrame\n",
    "import geodatasets\n",
    "import pandas as pd\n",
    "\n",
    "def plot_locs(dc_coords):\n",
    "    lats = [v[0] for v in dc_coords]\n",
    "    long = [v[1] for v in dc_coords]\n",
    "    \n",
    "    data = {\n",
    "        'Latitude': lats,\n",
    "        'Longitude': long\n",
    "    }\n",
    "    \n",
    "    df = pd.DataFrame(data=data)\n",
    "    geometry = [Point(xy) for xy in zip(df['Longitude'], df['Latitude'])]\n",
    "    gdf = GeoDataFrame(df, geometry=geometry)\n",
    "    \n",
    "    world = gpd.read_file(geodatasets.data.naturalearth.land['url'])\n",
    "    ax = world.plot(figsize=(10,6), cmap='Set2')\n",
    "    ax.set_axis_off()\n",
    "    gdf.plot(ax=ax, marker='o', color='black', markersize=5)\n",
    "\n",
    "#plot_locs(cf_dc_coords)"
   ]
  },
  {
   "cell_type": "markdown",
   "id": "101c0ee4-a126-48ff-b8fc-bd29bd7adc5d",
   "metadata": {},
   "source": [
    "## Root Server Locations"
   ]
  },
  {
   "cell_type": "code",
   "execution_count": null,
   "id": "608b540d-04a8-4eee-ab11-b9cd9bdc443c",
   "metadata": {},
   "outputs": [],
   "source": [
    "rs_coords = []\n",
    "for (city, country) in rs_locations:\n",
    "    res = get_coords(city,country)\n",
    "    if res:\n",
    "        rs_coords.append(res)"
   ]
  },
  {
   "cell_type": "code",
   "execution_count": null,
   "id": "2699522f-d6da-4183-a460-f0cb46477b08",
   "metadata": {},
   "outputs": [],
   "source": [
    "plot_locs(rs_coords)"
   ]
  },
  {
   "cell_type": "code",
   "execution_count": null,
   "id": "269fe6da-6d8d-4d8d-b7cb-9eb44dad9dbb",
   "metadata": {},
   "outputs": [],
   "source": []
  }
 ],
 "metadata": {
  "kernelspec": {
   "display_name": "Python 3 (ipykernel)",
   "language": "python",
   "name": "python3"
  },
  "language_info": {
   "codemirror_mode": {
    "name": "ipython",
    "version": 3
   },
   "file_extension": ".py",
   "mimetype": "text/x-python",
   "name": "python",
   "nbconvert_exporter": "python",
   "pygments_lexer": "ipython3",
   "version": "3.11.6"
  }
 },
 "nbformat": 4,
 "nbformat_minor": 5
}
