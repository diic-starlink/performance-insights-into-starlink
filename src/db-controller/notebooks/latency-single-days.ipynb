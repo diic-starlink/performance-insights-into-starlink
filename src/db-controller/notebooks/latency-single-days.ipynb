{
 "cells": [
  {
   "cell_type": "markdown",
   "id": "78692630-3118-40e9-978d-113fb6f3d6d0",
   "metadata": {},
   "source": [
    "# Starlink: Latency over Single Days"
   ]
  },
  {
   "cell_type": "code",
   "execution_count": null,
   "id": "4d438305-8d38-4310-8e0b-781f9ff8dc07",
   "metadata": {},
   "outputs": [],
   "source": [
    "import pandas as pd\n",
    "import numpy as np\n",
    "from datetime import datetime, timedelta, date\n",
    "import matplotlib.pyplot as plt\n",
    "import pycountry\n",
    "import os\n",
    "\n",
    "def country_name(country_iso):\n",
    "    return pycountry.countries.get(alpha_2=country_iso).name"
   ]
  },
  {
   "cell_type": "code",
   "execution_count": null,
   "id": "02217212-12a5-401f-9c84-466bf43e1ffc",
   "metadata": {},
   "outputs": [],
   "source": [
    "probes = pd.read_parquet(\"./parquet/ripe_atlas_probe_data.parquet\").set_index('id')\n",
    "probes"
   ]
  },
  {
   "cell_type": "code",
   "execution_count": null,
   "id": "0ecde26a-a893-4654-bebd-6d266dd67544",
   "metadata": {},
   "outputs": [],
   "source": [
    "tls_data = pd.read_parquet(\"./parquet/tls_data.parquet\").join(probes, on='prb_id')\n",
    "print(len(tls_data))\n",
    "tls_data"
   ]
  },
  {
   "cell_type": "code",
   "execution_count": null,
   "id": "d2ef0e20-41fd-40b9-97ed-2d309a1d0412",
   "metadata": {},
   "outputs": [],
   "source": [
    "results_dir = './individual_days_results'\n",
    "def filter_for(df, name, value):\n",
    "    return df.loc[df[name] == value]\n",
    "\n",
    "def filter_for_range(df, name, lower_bound, upper_bound):\n",
    "    return df[(df[name] >= lower_bound) & (df[name] < upper_bound)]\n",
    "\n",
    "def plot(hours, title, country):\n",
    "    # Create a figure and axis\n",
    "    fig, ax = plt.subplots()\n",
    "\n",
    "    # Plot the boxplots\n",
    "    ax.boxplot(hours, showfliers=False)\n",
    "\n",
    "    # Set axis labels and title\n",
    "    ax.set_xlabel('i-th Hour of the Day')\n",
    "    ax.set_ylabel('Latencies in ms')\n",
    "    ax.set_title('Boxplot of Tuples')\n",
    "    plt.title(title)\n",
    "    plt.savefig(results_dir + \"/\" + country + '/' + title.lower().replace(\" \", \"_\") + \".pdf\")\n",
    "    plt.clf()\n",
    "\n",
    "one_hour = timedelta(hours=1)\n",
    "one_day = timedelta(days=1)\n",
    "\n",
    "def plot_all_days(country):\n",
    "    german_df = filter_for(tls_data, 'country', country)\n",
    "    print(len(german_df))\n",
    "    \n",
    "    min = datetime.fromtimestamp(np.min(german_df['timestamp'].tolist()))\n",
    "    max = datetime.fromtimestamp(np.max(german_df['timestamp'].tolist()))\n",
    "    \n",
    "    def nicify_day(d):\n",
    "        return str(d.day) + \".\" + str(d.month) + \".\" + str(d.year)\n",
    "    \n",
    "    current = datetime(min.year, min.month, min.day)\n",
    "    while current < max:\n",
    "        hours = [ filter_for_range(german_df, 'timestamp', datetime.timestamp(current + (one_hour*i)), datetime.timestamp(current + (one_hour*(i+1))))['rt'] for i in range(0, 24)]\n",
    "        plot(hours, \"Latency Plot for \" + country_name(country) +  \" on \" + nicify_day(current), country)\n",
    "    \n",
    "        current = current + one_day\n",
    "\n",
    "if not os.path.isdir(results_dir): os.mkdir(results_dir)\n",
    "countries = ['DE', 'US']\n",
    "for c in countries:\n",
    "    dir = os.path.join(results_dir, c)\n",
    "    if not os.path.isdir(dir):\n",
    "        os.mkdir(dir)\n",
    "    plot_all_days(c)"
   ]
  }
 ],
 "metadata": {
  "kernelspec": {
   "display_name": "Python 3 (ipykernel)",
   "language": "python",
   "name": "python3"
  },
  "language_info": {
   "codemirror_mode": {
    "name": "ipython",
    "version": 3
   },
   "file_extension": ".py",
   "mimetype": "text/x-python",
   "name": "python",
   "nbconvert_exporter": "python",
   "pygments_lexer": "ipython3",
   "version": "3.12.7"
  }
 },
 "nbformat": 4,
 "nbformat_minor": 5
}
